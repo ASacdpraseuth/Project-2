{
 "cells": [
  {
   "cell_type": "code",
   "execution_count": 1,
   "metadata": {},
   "outputs": [],
   "source": [
    "import pandas as pd\n",
    "from sqlalchemy import create_engine"
   ]
  },
  {
   "cell_type": "code",
   "execution_count": 2,
   "metadata": {},
   "outputs": [],
   "source": [
    "ryans_file = \"Ryan's Table.csv\"\n",
    "new_file = \"Source_files/state_vaccinations.csv\""
   ]
  },
  {
   "cell_type": "code",
   "execution_count": 3,
   "metadata": {},
   "outputs": [
    {
     "data": {
      "text/html": [
       "<div>\n",
       "<style scoped>\n",
       "    .dataframe tbody tr th:only-of-type {\n",
       "        vertical-align: middle;\n",
       "    }\n",
       "\n",
       "    .dataframe tbody tr th {\n",
       "        vertical-align: top;\n",
       "    }\n",
       "\n",
       "    .dataframe thead th {\n",
       "        text-align: right;\n",
       "    }\n",
       "</style>\n",
       "<table border=\"1\" class=\"dataframe\">\n",
       "  <thead>\n",
       "    <tr style=\"text-align: right;\">\n",
       "      <th></th>\n",
       "      <th>State</th>\n",
       "      <th>Tested</th>\n",
       "      <th>Infected</th>\n",
       "      <th>Deaths</th>\n",
       "      <th>ICU Beds</th>\n",
       "      <th>Age 0-25</th>\n",
       "      <th>Age 26-54</th>\n",
       "      <th>Age 55+</th>\n",
       "      <th>Obesity Rate</th>\n",
       "      <th>Population</th>\n",
       "      <th>Health Expen</th>\n",
       "    </tr>\n",
       "  </thead>\n",
       "  <tbody>\n",
       "    <tr>\n",
       "      <th>0</th>\n",
       "      <td>Alabama</td>\n",
       "      <td>1356420</td>\n",
       "      <td>194892</td>\n",
       "      <td>2973</td>\n",
       "      <td>1533</td>\n",
       "      <td>0.33</td>\n",
       "      <td>0.37</td>\n",
       "      <td>0.31</td>\n",
       "      <td>36.1</td>\n",
       "      <td>4934193</td>\n",
       "      <td>7281</td>\n",
       "    </tr>\n",
       "    <tr>\n",
       "      <th>1</th>\n",
       "      <td>Alaska</td>\n",
       "      <td>620170</td>\n",
       "      <td>17057</td>\n",
       "      <td>84</td>\n",
       "      <td>119</td>\n",
       "      <td>0.36</td>\n",
       "      <td>0.39</td>\n",
       "      <td>0.25</td>\n",
       "      <td>30.5</td>\n",
       "      <td>724357</td>\n",
       "      <td>11064</td>\n",
       "    </tr>\n",
       "    <tr>\n",
       "      <th>2</th>\n",
       "      <td>Arizona</td>\n",
       "      <td>1792602</td>\n",
       "      <td>248139</td>\n",
       "      <td>5982</td>\n",
       "      <td>1559</td>\n",
       "      <td>0.33</td>\n",
       "      <td>0.36</td>\n",
       "      <td>0.30</td>\n",
       "      <td>31.4</td>\n",
       "      <td>7520103</td>\n",
       "      <td>6452</td>\n",
       "    </tr>\n",
       "    <tr>\n",
       "      <th>3</th>\n",
       "      <td>Arkansas</td>\n",
       "      <td>1363429</td>\n",
       "      <td>113641</td>\n",
       "      <td>1985</td>\n",
       "      <td>732</td>\n",
       "      <td>0.34</td>\n",
       "      <td>0.37</td>\n",
       "      <td>0.30</td>\n",
       "      <td>37.4</td>\n",
       "      <td>3033946</td>\n",
       "      <td>7408</td>\n",
       "    </tr>\n",
       "    <tr>\n",
       "      <th>4</th>\n",
       "      <td>California</td>\n",
       "      <td>18912501</td>\n",
       "      <td>930628</td>\n",
       "      <td>17672</td>\n",
       "      <td>7338</td>\n",
       "      <td>0.33</td>\n",
       "      <td>0.40</td>\n",
       "      <td>0.26</td>\n",
       "      <td>26.3</td>\n",
       "      <td>39613493</td>\n",
       "      <td>7549</td>\n",
       "    </tr>\n",
       "  </tbody>\n",
       "</table>\n",
       "</div>"
      ],
      "text/plain": [
       "        State    Tested  Infected  Deaths  ICU Beds  Age 0-25  Age 26-54  \\\n",
       "0     Alabama   1356420    194892    2973      1533      0.33       0.37   \n",
       "1      Alaska    620170     17057      84       119      0.36       0.39   \n",
       "2     Arizona   1792602    248139    5982      1559      0.33       0.36   \n",
       "3    Arkansas   1363429    113641    1985       732      0.34       0.37   \n",
       "4  California  18912501    930628   17672      7338      0.33       0.40   \n",
       "\n",
       "   Age 55+  Obesity Rate  Population  Health Expen  \n",
       "0     0.31          36.1     4934193          7281  \n",
       "1     0.25          30.5      724357         11064  \n",
       "2     0.30          31.4     7520103          6452  \n",
       "3     0.30          37.4     3033946          7408  \n",
       "4     0.26          26.3    39613493          7549  "
      ]
     },
     "execution_count": 3,
     "metadata": {},
     "output_type": "execute_result"
    }
   ],
   "source": [
    "df_ryan = pd.read_csv(ryans_file)\n",
    "df_ryan.head()"
   ]
  },
  {
   "cell_type": "code",
   "execution_count": 7,
   "metadata": {},
   "outputs": [
    {
     "data": {
      "text/plain": [
       "(50, 11)"
      ]
     },
     "execution_count": 7,
     "metadata": {},
     "output_type": "execute_result"
    }
   ],
   "source": [
    "df_ryan.shape"
   ]
  },
  {
   "cell_type": "code",
   "execution_count": 5,
   "metadata": {},
   "outputs": [
    {
     "data": {
      "text/html": [
       "<div>\n",
       "<style scoped>\n",
       "    .dataframe tbody tr th:only-of-type {\n",
       "        vertical-align: middle;\n",
       "    }\n",
       "\n",
       "    .dataframe tbody tr th {\n",
       "        vertical-align: top;\n",
       "    }\n",
       "\n",
       "    .dataframe thead th {\n",
       "        text-align: right;\n",
       "    }\n",
       "</style>\n",
       "<table border=\"1\" class=\"dataframe\">\n",
       "  <thead>\n",
       "    <tr style=\"text-align: right;\">\n",
       "      <th></th>\n",
       "      <th>State</th>\n",
       "      <th>total_vaccinations</th>\n",
       "      <th>total_distributed</th>\n",
       "      <th>people_vaccinated</th>\n",
       "      <th>people_fully_vaccinated_per_hundred</th>\n",
       "      <th>total_vaccinations_per_hundred</th>\n",
       "      <th>people_fully_vaccinated</th>\n",
       "      <th>people_vaccinated_per_hundred</th>\n",
       "      <th>distributed_per_hundred</th>\n",
       "      <th>daily_vaccinations_raw</th>\n",
       "      <th>daily_vaccinations</th>\n",
       "      <th>daily_vaccinations_per_million</th>\n",
       "      <th>share_doses_used</th>\n",
       "    </tr>\n",
       "  </thead>\n",
       "  <tbody>\n",
       "    <tr>\n",
       "      <th>0</th>\n",
       "      <td>Alabama</td>\n",
       "      <td>3064250.0</td>\n",
       "      <td>4648150.0</td>\n",
       "      <td>1787017.0</td>\n",
       "      <td>29.78</td>\n",
       "      <td>62.50</td>\n",
       "      <td>1460230.0</td>\n",
       "      <td>36.45</td>\n",
       "      <td>94.80</td>\n",
       "      <td>23765.0</td>\n",
       "      <td>5508.0</td>\n",
       "      <td>1123.0</td>\n",
       "      <td>0.659</td>\n",
       "    </tr>\n",
       "    <tr>\n",
       "      <th>1</th>\n",
       "      <td>Alaska</td>\n",
       "      <td>625893.0</td>\n",
       "      <td>819205.0</td>\n",
       "      <td>343730.0</td>\n",
       "      <td>40.49</td>\n",
       "      <td>85.56</td>\n",
       "      <td>296184.0</td>\n",
       "      <td>46.99</td>\n",
       "      <td>111.98</td>\n",
       "      <td>2362.0</td>\n",
       "      <td>1595.0</td>\n",
       "      <td>2180.0</td>\n",
       "      <td>0.764</td>\n",
       "    </tr>\n",
       "    <tr>\n",
       "      <th>2</th>\n",
       "      <td>Arizona</td>\n",
       "      <td>6122967.0</td>\n",
       "      <td>7905885.0</td>\n",
       "      <td>3445917.0</td>\n",
       "      <td>37.22</td>\n",
       "      <td>84.12</td>\n",
       "      <td>2709020.0</td>\n",
       "      <td>47.34</td>\n",
       "      <td>108.62</td>\n",
       "      <td>1063.0</td>\n",
       "      <td>17986.0</td>\n",
       "      <td>2471.0</td>\n",
       "      <td>0.774</td>\n",
       "    </tr>\n",
       "    <tr>\n",
       "      <th>3</th>\n",
       "      <td>Arkansas</td>\n",
       "      <td>2130617.0</td>\n",
       "      <td>2793200.0</td>\n",
       "      <td>1218544.0</td>\n",
       "      <td>32.14</td>\n",
       "      <td>70.60</td>\n",
       "      <td>969859.0</td>\n",
       "      <td>40.38</td>\n",
       "      <td>92.56</td>\n",
       "      <td>7179.0</td>\n",
       "      <td>5924.0</td>\n",
       "      <td>1963.0</td>\n",
       "      <td>0.763</td>\n",
       "    </tr>\n",
       "    <tr>\n",
       "      <th>4</th>\n",
       "      <td>California</td>\n",
       "      <td>39765872.0</td>\n",
       "      <td>48112680.0</td>\n",
       "      <td>23038863.0</td>\n",
       "      <td>45.31</td>\n",
       "      <td>100.64</td>\n",
       "      <td>17903416.0</td>\n",
       "      <td>58.31</td>\n",
       "      <td>121.77</td>\n",
       "      <td>1476.0</td>\n",
       "      <td>161232.0</td>\n",
       "      <td>4081.0</td>\n",
       "      <td>0.827</td>\n",
       "    </tr>\n",
       "  </tbody>\n",
       "</table>\n",
       "</div>"
      ],
      "text/plain": [
       "        State  total_vaccinations  total_distributed  people_vaccinated  \\\n",
       "0     Alabama           3064250.0          4648150.0          1787017.0   \n",
       "1      Alaska            625893.0           819205.0           343730.0   \n",
       "2     Arizona           6122967.0          7905885.0          3445917.0   \n",
       "3    Arkansas           2130617.0          2793200.0          1218544.0   \n",
       "4  California          39765872.0         48112680.0         23038863.0   \n",
       "\n",
       "   people_fully_vaccinated_per_hundred  total_vaccinations_per_hundred  \\\n",
       "0                                29.78                           62.50   \n",
       "1                                40.49                           85.56   \n",
       "2                                37.22                           84.12   \n",
       "3                                32.14                           70.60   \n",
       "4                                45.31                          100.64   \n",
       "\n",
       "   people_fully_vaccinated  people_vaccinated_per_hundred  \\\n",
       "0                1460230.0                          36.45   \n",
       "1                 296184.0                          46.99   \n",
       "2                2709020.0                          47.34   \n",
       "3                 969859.0                          40.38   \n",
       "4               17903416.0                          58.31   \n",
       "\n",
       "   distributed_per_hundred  daily_vaccinations_raw  daily_vaccinations  \\\n",
       "0                    94.80                 23765.0              5508.0   \n",
       "1                   111.98                  2362.0              1595.0   \n",
       "2                   108.62                  1063.0             17986.0   \n",
       "3                    92.56                  7179.0              5924.0   \n",
       "4                   121.77                  1476.0            161232.0   \n",
       "\n",
       "   daily_vaccinations_per_million  share_doses_used  \n",
       "0                          1123.0             0.659  \n",
       "1                          2180.0             0.764  \n",
       "2                          2471.0             0.774  \n",
       "3                          1963.0             0.763  \n",
       "4                          4081.0             0.827  "
      ]
     },
     "execution_count": 5,
     "metadata": {},
     "output_type": "execute_result"
    }
   ],
   "source": [
    "df_vax = pd.read_csv(new_file)\n",
    "df_vax.head()"
   ]
  },
  {
   "cell_type": "code",
   "execution_count": 8,
   "metadata": {},
   "outputs": [
    {
     "data": {
      "text/plain": [
       "(51, 13)"
      ]
     },
     "execution_count": 8,
     "metadata": {},
     "output_type": "execute_result"
    }
   ],
   "source": [
    "df_vax.shape"
   ]
  },
  {
   "cell_type": "code",
   "execution_count": 9,
   "metadata": {},
   "outputs": [],
   "source": [
    "df_vax = df_vax[df_vax.State != 'United States']"
   ]
  },
  {
   "cell_type": "code",
   "execution_count": 10,
   "metadata": {},
   "outputs": [
    {
     "data": {
      "text/plain": [
       "(50, 13)"
      ]
     },
     "execution_count": 10,
     "metadata": {},
     "output_type": "execute_result"
    }
   ],
   "source": [
    "df_vax.shape"
   ]
  },
  {
   "cell_type": "code",
   "execution_count": 12,
   "metadata": {},
   "outputs": [],
   "source": [
    "df_vax['partial_vaccinations'] = (df_vax['people_vaccinated'] - df_vax['people_fully_vaccinated'])"
   ]
  },
  {
   "cell_type": "code",
   "execution_count": 13,
   "metadata": {},
   "outputs": [
    {
     "data": {
      "text/html": [
       "<div>\n",
       "<style scoped>\n",
       "    .dataframe tbody tr th:only-of-type {\n",
       "        vertical-align: middle;\n",
       "    }\n",
       "\n",
       "    .dataframe tbody tr th {\n",
       "        vertical-align: top;\n",
       "    }\n",
       "\n",
       "    .dataframe thead th {\n",
       "        text-align: right;\n",
       "    }\n",
       "</style>\n",
       "<table border=\"1\" class=\"dataframe\">\n",
       "  <thead>\n",
       "    <tr style=\"text-align: right;\">\n",
       "      <th></th>\n",
       "      <th>State</th>\n",
       "      <th>total_vaccinations</th>\n",
       "      <th>total_distributed</th>\n",
       "      <th>people_vaccinated</th>\n",
       "      <th>people_fully_vaccinated_per_hundred</th>\n",
       "      <th>total_vaccinations_per_hundred</th>\n",
       "      <th>people_fully_vaccinated</th>\n",
       "      <th>people_vaccinated_per_hundred</th>\n",
       "      <th>distributed_per_hundred</th>\n",
       "      <th>daily_vaccinations_raw</th>\n",
       "      <th>daily_vaccinations</th>\n",
       "      <th>daily_vaccinations_per_million</th>\n",
       "      <th>share_doses_used</th>\n",
       "      <th>partial_vaccinations</th>\n",
       "    </tr>\n",
       "  </thead>\n",
       "  <tbody>\n",
       "    <tr>\n",
       "      <th>0</th>\n",
       "      <td>Alabama</td>\n",
       "      <td>3064250.0</td>\n",
       "      <td>4648150.0</td>\n",
       "      <td>1787017.0</td>\n",
       "      <td>29.78</td>\n",
       "      <td>62.50</td>\n",
       "      <td>1460230.0</td>\n",
       "      <td>36.45</td>\n",
       "      <td>94.80</td>\n",
       "      <td>23765.0</td>\n",
       "      <td>5508.0</td>\n",
       "      <td>1123.0</td>\n",
       "      <td>0.659</td>\n",
       "      <td>326787.0</td>\n",
       "    </tr>\n",
       "    <tr>\n",
       "      <th>1</th>\n",
       "      <td>Alaska</td>\n",
       "      <td>625893.0</td>\n",
       "      <td>819205.0</td>\n",
       "      <td>343730.0</td>\n",
       "      <td>40.49</td>\n",
       "      <td>85.56</td>\n",
       "      <td>296184.0</td>\n",
       "      <td>46.99</td>\n",
       "      <td>111.98</td>\n",
       "      <td>2362.0</td>\n",
       "      <td>1595.0</td>\n",
       "      <td>2180.0</td>\n",
       "      <td>0.764</td>\n",
       "      <td>47546.0</td>\n",
       "    </tr>\n",
       "    <tr>\n",
       "      <th>2</th>\n",
       "      <td>Arizona</td>\n",
       "      <td>6122967.0</td>\n",
       "      <td>7905885.0</td>\n",
       "      <td>3445917.0</td>\n",
       "      <td>37.22</td>\n",
       "      <td>84.12</td>\n",
       "      <td>2709020.0</td>\n",
       "      <td>47.34</td>\n",
       "      <td>108.62</td>\n",
       "      <td>1063.0</td>\n",
       "      <td>17986.0</td>\n",
       "      <td>2471.0</td>\n",
       "      <td>0.774</td>\n",
       "      <td>736897.0</td>\n",
       "    </tr>\n",
       "    <tr>\n",
       "      <th>3</th>\n",
       "      <td>Arkansas</td>\n",
       "      <td>2130617.0</td>\n",
       "      <td>2793200.0</td>\n",
       "      <td>1218544.0</td>\n",
       "      <td>32.14</td>\n",
       "      <td>70.60</td>\n",
       "      <td>969859.0</td>\n",
       "      <td>40.38</td>\n",
       "      <td>92.56</td>\n",
       "      <td>7179.0</td>\n",
       "      <td>5924.0</td>\n",
       "      <td>1963.0</td>\n",
       "      <td>0.763</td>\n",
       "      <td>248685.0</td>\n",
       "    </tr>\n",
       "    <tr>\n",
       "      <th>4</th>\n",
       "      <td>California</td>\n",
       "      <td>39765872.0</td>\n",
       "      <td>48112680.0</td>\n",
       "      <td>23038863.0</td>\n",
       "      <td>45.31</td>\n",
       "      <td>100.64</td>\n",
       "      <td>17903416.0</td>\n",
       "      <td>58.31</td>\n",
       "      <td>121.77</td>\n",
       "      <td>1476.0</td>\n",
       "      <td>161232.0</td>\n",
       "      <td>4081.0</td>\n",
       "      <td>0.827</td>\n",
       "      <td>5135447.0</td>\n",
       "    </tr>\n",
       "  </tbody>\n",
       "</table>\n",
       "</div>"
      ],
      "text/plain": [
       "        State  total_vaccinations  total_distributed  people_vaccinated  \\\n",
       "0     Alabama           3064250.0          4648150.0          1787017.0   \n",
       "1      Alaska            625893.0           819205.0           343730.0   \n",
       "2     Arizona           6122967.0          7905885.0          3445917.0   \n",
       "3    Arkansas           2130617.0          2793200.0          1218544.0   \n",
       "4  California          39765872.0         48112680.0         23038863.0   \n",
       "\n",
       "   people_fully_vaccinated_per_hundred  total_vaccinations_per_hundred  \\\n",
       "0                                29.78                           62.50   \n",
       "1                                40.49                           85.56   \n",
       "2                                37.22                           84.12   \n",
       "3                                32.14                           70.60   \n",
       "4                                45.31                          100.64   \n",
       "\n",
       "   people_fully_vaccinated  people_vaccinated_per_hundred  \\\n",
       "0                1460230.0                          36.45   \n",
       "1                 296184.0                          46.99   \n",
       "2                2709020.0                          47.34   \n",
       "3                 969859.0                          40.38   \n",
       "4               17903416.0                          58.31   \n",
       "\n",
       "   distributed_per_hundred  daily_vaccinations_raw  daily_vaccinations  \\\n",
       "0                    94.80                 23765.0              5508.0   \n",
       "1                   111.98                  2362.0              1595.0   \n",
       "2                   108.62                  1063.0             17986.0   \n",
       "3                    92.56                  7179.0              5924.0   \n",
       "4                   121.77                  1476.0            161232.0   \n",
       "\n",
       "   daily_vaccinations_per_million  share_doses_used  partial_vaccinations  \n",
       "0                          1123.0             0.659              326787.0  \n",
       "1                          2180.0             0.764               47546.0  \n",
       "2                          2471.0             0.774              736897.0  \n",
       "3                          1963.0             0.763              248685.0  \n",
       "4                          4081.0             0.827             5135447.0  "
      ]
     },
     "execution_count": 13,
     "metadata": {},
     "output_type": "execute_result"
    }
   ],
   "source": [
    "df_vax.head()"
   ]
  },
  {
   "cell_type": "code",
   "execution_count": 16,
   "metadata": {},
   "outputs": [],
   "source": [
    "df_vax.drop(['total_vaccinations', 'total_distributed', 'people_vaccinated', 'people_fully_vaccinated_per_hundred',\n",
    "             'total_vaccinations_per_hundred', 'people_vaccinated_per_hundred', 'distributed_per_hundred',\n",
    "             'daily_vaccinations_raw', 'daily_vaccinations', 'daily_vaccinations_per_million'], axis=1, inplace=True)"
   ]
  },
  {
   "cell_type": "code",
   "execution_count": 17,
   "metadata": {},
   "outputs": [
    {
     "data": {
      "text/html": [
       "<div>\n",
       "<style scoped>\n",
       "    .dataframe tbody tr th:only-of-type {\n",
       "        vertical-align: middle;\n",
       "    }\n",
       "\n",
       "    .dataframe tbody tr th {\n",
       "        vertical-align: top;\n",
       "    }\n",
       "\n",
       "    .dataframe thead th {\n",
       "        text-align: right;\n",
       "    }\n",
       "</style>\n",
       "<table border=\"1\" class=\"dataframe\">\n",
       "  <thead>\n",
       "    <tr style=\"text-align: right;\">\n",
       "      <th></th>\n",
       "      <th>State</th>\n",
       "      <th>people_fully_vaccinated</th>\n",
       "      <th>share_doses_used</th>\n",
       "      <th>partial_vaccinations</th>\n",
       "    </tr>\n",
       "  </thead>\n",
       "  <tbody>\n",
       "    <tr>\n",
       "      <th>0</th>\n",
       "      <td>Alabama</td>\n",
       "      <td>1460230.0</td>\n",
       "      <td>0.659</td>\n",
       "      <td>326787.0</td>\n",
       "    </tr>\n",
       "    <tr>\n",
       "      <th>1</th>\n",
       "      <td>Alaska</td>\n",
       "      <td>296184.0</td>\n",
       "      <td>0.764</td>\n",
       "      <td>47546.0</td>\n",
       "    </tr>\n",
       "    <tr>\n",
       "      <th>2</th>\n",
       "      <td>Arizona</td>\n",
       "      <td>2709020.0</td>\n",
       "      <td>0.774</td>\n",
       "      <td>736897.0</td>\n",
       "    </tr>\n",
       "    <tr>\n",
       "      <th>3</th>\n",
       "      <td>Arkansas</td>\n",
       "      <td>969859.0</td>\n",
       "      <td>0.763</td>\n",
       "      <td>248685.0</td>\n",
       "    </tr>\n",
       "    <tr>\n",
       "      <th>4</th>\n",
       "      <td>California</td>\n",
       "      <td>17903416.0</td>\n",
       "      <td>0.827</td>\n",
       "      <td>5135447.0</td>\n",
       "    </tr>\n",
       "  </tbody>\n",
       "</table>\n",
       "</div>"
      ],
      "text/plain": [
       "        State  people_fully_vaccinated  share_doses_used  partial_vaccinations\n",
       "0     Alabama                1460230.0             0.659              326787.0\n",
       "1      Alaska                 296184.0             0.764               47546.0\n",
       "2     Arizona                2709020.0             0.774              736897.0\n",
       "3    Arkansas                 969859.0             0.763              248685.0\n",
       "4  California               17903416.0             0.827             5135447.0"
      ]
     },
     "execution_count": 17,
     "metadata": {},
     "output_type": "execute_result"
    }
   ],
   "source": [
    "df_vax.head()"
   ]
  },
  {
   "cell_type": "code",
   "execution_count": 18,
   "metadata": {},
   "outputs": [],
   "source": [
    "df_vax = df_vax.rename(columns={'share_doses_used':'percent_doses_used'})"
   ]
  },
  {
   "cell_type": "code",
   "execution_count": 19,
   "metadata": {},
   "outputs": [
    {
     "data": {
      "text/html": [
       "<div>\n",
       "<style scoped>\n",
       "    .dataframe tbody tr th:only-of-type {\n",
       "        vertical-align: middle;\n",
       "    }\n",
       "\n",
       "    .dataframe tbody tr th {\n",
       "        vertical-align: top;\n",
       "    }\n",
       "\n",
       "    .dataframe thead th {\n",
       "        text-align: right;\n",
       "    }\n",
       "</style>\n",
       "<table border=\"1\" class=\"dataframe\">\n",
       "  <thead>\n",
       "    <tr style=\"text-align: right;\">\n",
       "      <th></th>\n",
       "      <th>State</th>\n",
       "      <th>people_fully_vaccinated</th>\n",
       "      <th>percent_doses_used</th>\n",
       "      <th>partial_vaccinations</th>\n",
       "    </tr>\n",
       "  </thead>\n",
       "  <tbody>\n",
       "    <tr>\n",
       "      <th>0</th>\n",
       "      <td>Alabama</td>\n",
       "      <td>1460230.0</td>\n",
       "      <td>0.659</td>\n",
       "      <td>326787.0</td>\n",
       "    </tr>\n",
       "    <tr>\n",
       "      <th>1</th>\n",
       "      <td>Alaska</td>\n",
       "      <td>296184.0</td>\n",
       "      <td>0.764</td>\n",
       "      <td>47546.0</td>\n",
       "    </tr>\n",
       "    <tr>\n",
       "      <th>2</th>\n",
       "      <td>Arizona</td>\n",
       "      <td>2709020.0</td>\n",
       "      <td>0.774</td>\n",
       "      <td>736897.0</td>\n",
       "    </tr>\n",
       "    <tr>\n",
       "      <th>3</th>\n",
       "      <td>Arkansas</td>\n",
       "      <td>969859.0</td>\n",
       "      <td>0.763</td>\n",
       "      <td>248685.0</td>\n",
       "    </tr>\n",
       "    <tr>\n",
       "      <th>4</th>\n",
       "      <td>California</td>\n",
       "      <td>17903416.0</td>\n",
       "      <td>0.827</td>\n",
       "      <td>5135447.0</td>\n",
       "    </tr>\n",
       "  </tbody>\n",
       "</table>\n",
       "</div>"
      ],
      "text/plain": [
       "        State  people_fully_vaccinated  percent_doses_used  \\\n",
       "0     Alabama                1460230.0               0.659   \n",
       "1      Alaska                 296184.0               0.764   \n",
       "2     Arizona                2709020.0               0.774   \n",
       "3    Arkansas                 969859.0               0.763   \n",
       "4  California               17903416.0               0.827   \n",
       "\n",
       "   partial_vaccinations  \n",
       "0              326787.0  \n",
       "1               47546.0  \n",
       "2              736897.0  \n",
       "3              248685.0  \n",
       "4             5135447.0  "
      ]
     },
     "execution_count": 19,
     "metadata": {},
     "output_type": "execute_result"
    }
   ],
   "source": [
    "df_vax.head()"
   ]
  },
  {
   "cell_type": "code",
   "execution_count": 20,
   "metadata": {},
   "outputs": [],
   "source": [
    "df_vax.percent_doses_used = (df_vax.percent_doses_used * 100).astype(str) + '%'"
   ]
  },
  {
   "cell_type": "code",
   "execution_count": 21,
   "metadata": {},
   "outputs": [
    {
     "data": {
      "text/html": [
       "<div>\n",
       "<style scoped>\n",
       "    .dataframe tbody tr th:only-of-type {\n",
       "        vertical-align: middle;\n",
       "    }\n",
       "\n",
       "    .dataframe tbody tr th {\n",
       "        vertical-align: top;\n",
       "    }\n",
       "\n",
       "    .dataframe thead th {\n",
       "        text-align: right;\n",
       "    }\n",
       "</style>\n",
       "<table border=\"1\" class=\"dataframe\">\n",
       "  <thead>\n",
       "    <tr style=\"text-align: right;\">\n",
       "      <th></th>\n",
       "      <th>State</th>\n",
       "      <th>people_fully_vaccinated</th>\n",
       "      <th>percent_doses_used</th>\n",
       "      <th>partial_vaccinations</th>\n",
       "    </tr>\n",
       "  </thead>\n",
       "  <tbody>\n",
       "    <tr>\n",
       "      <th>0</th>\n",
       "      <td>Alabama</td>\n",
       "      <td>1460230.0</td>\n",
       "      <td>65.9%</td>\n",
       "      <td>326787.0</td>\n",
       "    </tr>\n",
       "    <tr>\n",
       "      <th>1</th>\n",
       "      <td>Alaska</td>\n",
       "      <td>296184.0</td>\n",
       "      <td>76.4%</td>\n",
       "      <td>47546.0</td>\n",
       "    </tr>\n",
       "    <tr>\n",
       "      <th>2</th>\n",
       "      <td>Arizona</td>\n",
       "      <td>2709020.0</td>\n",
       "      <td>77.4%</td>\n",
       "      <td>736897.0</td>\n",
       "    </tr>\n",
       "    <tr>\n",
       "      <th>3</th>\n",
       "      <td>Arkansas</td>\n",
       "      <td>969859.0</td>\n",
       "      <td>76.3%</td>\n",
       "      <td>248685.0</td>\n",
       "    </tr>\n",
       "    <tr>\n",
       "      <th>4</th>\n",
       "      <td>California</td>\n",
       "      <td>17903416.0</td>\n",
       "      <td>82.7%</td>\n",
       "      <td>5135447.0</td>\n",
       "    </tr>\n",
       "  </tbody>\n",
       "</table>\n",
       "</div>"
      ],
      "text/plain": [
       "        State  people_fully_vaccinated percent_doses_used  \\\n",
       "0     Alabama                1460230.0              65.9%   \n",
       "1      Alaska                 296184.0              76.4%   \n",
       "2     Arizona                2709020.0              77.4%   \n",
       "3    Arkansas                 969859.0              76.3%   \n",
       "4  California               17903416.0              82.7%   \n",
       "\n",
       "   partial_vaccinations  \n",
       "0              326787.0  \n",
       "1               47546.0  \n",
       "2              736897.0  \n",
       "3              248685.0  \n",
       "4             5135447.0  "
      ]
     },
     "execution_count": 21,
     "metadata": {},
     "output_type": "execute_result"
    }
   ],
   "source": [
    "df_vax.head()"
   ]
  },
  {
   "cell_type": "code",
   "execution_count": 23,
   "metadata": {},
   "outputs": [
    {
     "data": {
      "text/plain": [
       "['State',\n",
       " 'people_fully_vaccinated',\n",
       " 'percent_doses_used',\n",
       " 'partial_vaccinations']"
      ]
     },
     "execution_count": 23,
     "metadata": {},
     "output_type": "execute_result"
    }
   ],
   "source": [
    "cols = list(df_vax.columns.values)\n",
    "cols"
   ]
  },
  {
   "cell_type": "code",
   "execution_count": 24,
   "metadata": {},
   "outputs": [],
   "source": [
    "df_vax = df_vax[['State', 'partial_vaccinations', 'people_fully_vaccinated', 'percent_doses_used']]"
   ]
  },
  {
   "cell_type": "code",
   "execution_count": 25,
   "metadata": {},
   "outputs": [
    {
     "data": {
      "text/html": [
       "<div>\n",
       "<style scoped>\n",
       "    .dataframe tbody tr th:only-of-type {\n",
       "        vertical-align: middle;\n",
       "    }\n",
       "\n",
       "    .dataframe tbody tr th {\n",
       "        vertical-align: top;\n",
       "    }\n",
       "\n",
       "    .dataframe thead th {\n",
       "        text-align: right;\n",
       "    }\n",
       "</style>\n",
       "<table border=\"1\" class=\"dataframe\">\n",
       "  <thead>\n",
       "    <tr style=\"text-align: right;\">\n",
       "      <th></th>\n",
       "      <th>State</th>\n",
       "      <th>partial_vaccinations</th>\n",
       "      <th>people_fully_vaccinated</th>\n",
       "      <th>percent_doses_used</th>\n",
       "    </tr>\n",
       "  </thead>\n",
       "  <tbody>\n",
       "    <tr>\n",
       "      <th>0</th>\n",
       "      <td>Alabama</td>\n",
       "      <td>326787.0</td>\n",
       "      <td>1460230.0</td>\n",
       "      <td>65.9%</td>\n",
       "    </tr>\n",
       "    <tr>\n",
       "      <th>1</th>\n",
       "      <td>Alaska</td>\n",
       "      <td>47546.0</td>\n",
       "      <td>296184.0</td>\n",
       "      <td>76.4%</td>\n",
       "    </tr>\n",
       "    <tr>\n",
       "      <th>2</th>\n",
       "      <td>Arizona</td>\n",
       "      <td>736897.0</td>\n",
       "      <td>2709020.0</td>\n",
       "      <td>77.4%</td>\n",
       "    </tr>\n",
       "    <tr>\n",
       "      <th>3</th>\n",
       "      <td>Arkansas</td>\n",
       "      <td>248685.0</td>\n",
       "      <td>969859.0</td>\n",
       "      <td>76.3%</td>\n",
       "    </tr>\n",
       "    <tr>\n",
       "      <th>4</th>\n",
       "      <td>California</td>\n",
       "      <td>5135447.0</td>\n",
       "      <td>17903416.0</td>\n",
       "      <td>82.7%</td>\n",
       "    </tr>\n",
       "  </tbody>\n",
       "</table>\n",
       "</div>"
      ],
      "text/plain": [
       "        State  partial_vaccinations  people_fully_vaccinated  \\\n",
       "0     Alabama              326787.0                1460230.0   \n",
       "1      Alaska               47546.0                 296184.0   \n",
       "2     Arizona              736897.0                2709020.0   \n",
       "3    Arkansas              248685.0                 969859.0   \n",
       "4  California             5135447.0               17903416.0   \n",
       "\n",
       "  percent_doses_used  \n",
       "0              65.9%  \n",
       "1              76.4%  \n",
       "2              77.4%  \n",
       "3              76.3%  \n",
       "4              82.7%  "
      ]
     },
     "execution_count": 25,
     "metadata": {},
     "output_type": "execute_result"
    }
   ],
   "source": [
    "df_vax.head()"
   ]
  },
  {
   "cell_type": "code",
   "execution_count": 27,
   "metadata": {},
   "outputs": [],
   "source": [
    "import config\n",
    "conn = f'{config.username}:{config.password}@localhost:5432/project_2'\n",
    "engine = create_engine(f'postgresql://{conn}')"
   ]
  },
  {
   "cell_type": "code",
   "execution_count": 31,
   "metadata": {},
   "outputs": [
    {
     "data": {
      "text/plain": [
       "['ryan', 'vax']"
      ]
     },
     "execution_count": 31,
     "metadata": {},
     "output_type": "execute_result"
    }
   ],
   "source": [
    "engine.table_names()"
   ]
  },
  {
   "cell_type": "code",
   "execution_count": 29,
   "metadata": {},
   "outputs": [],
   "source": [
    "df_ryan.to_sql(name='ryan', con=engine, if_exists='append', index=False)"
   ]
  },
  {
   "cell_type": "code",
   "execution_count": 30,
   "metadata": {},
   "outputs": [],
   "source": [
    "df_vax.to_sql(name='vax', con=engine, if_exists='append', index=False)"
   ]
  },
  {
   "cell_type": "code",
   "execution_count": 32,
   "metadata": {},
   "outputs": [
    {
     "data": {
      "text/plain": [
       "Index(['State', 'Tested', 'Infected', 'Deaths', 'ICU Beds', 'Age 0-25',\n",
       "       'Age 26-54', 'Age 55+', 'Obesity Rate', 'Population', 'Health Expen'],\n",
       "      dtype='object')"
      ]
     },
     "execution_count": 32,
     "metadata": {},
     "output_type": "execute_result"
    }
   ],
   "source": [
    "df_ryan.columns"
   ]
  },
  {
   "cell_type": "code",
   "execution_count": null,
   "metadata": {},
   "outputs": [],
   "source": []
  }
 ],
 "metadata": {
  "kernelspec": {
   "display_name": "Python [conda env:PythonData] *",
   "language": "python",
   "name": "conda-env-PythonData-py"
  },
  "language_info": {
   "codemirror_mode": {
    "name": "ipython",
    "version": 3
   },
   "file_extension": ".py",
   "mimetype": "text/x-python",
   "name": "python",
   "nbconvert_exporter": "python",
   "pygments_lexer": "ipython3",
   "version": "3.6.10"
  }
 },
 "nbformat": 4,
 "nbformat_minor": 4
}
